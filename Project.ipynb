{
  "nbformat": 4,
  "nbformat_minor": 0,
  "metadata": {
    "colab": {
      "provenance": [],
      "include_colab_link": true
    },
    "kernelspec": {
      "name": "python3",
      "display_name": "Python 3"
    },
    "language_info": {
      "name": "python"
    }
  },
  "cells": [
    {
      "cell_type": "markdown",
      "metadata": {
        "id": "view-in-github",
        "colab_type": "text"
      },
      "source": [
        "<a href=\"https://colab.research.google.com/github/oqba06878/GPU-Project/blob/main/Project.ipynb\" target=\"_parent\"><img src=\"https://colab.research.google.com/assets/colab-badge.svg\" alt=\"Open In Colab\"/></a>"
      ]
    },
    {
      "cell_type": "markdown",
      "source": [
        "**<h1> GPU Project:  Effecient Parallelization of Edmond's Karp Algorithm </h1>**\n",
        "\n",
        "<h3><b>Authors:</b> Maha Usmani, Shehryar Amin, Oqba Jawed</h3>"
      ],
      "metadata": {
        "id": "mCWvHEeOrbcV"
      }
    },
    {
      "cell_type": "markdown",
      "source": [
        "**<h2> CPU Implementation </h2>**"
      ],
      "metadata": {
        "id": "T1rEW0VUsII0"
      }
    },
    {
      "cell_type": "markdown",
      "source": [
        "adjacency matrix for graph "
      ],
      "metadata": {
        "id": "o6KpGEi1yVOG"
      }
    },
    {
      "cell_type": "code",
      "execution_count": null,
      "metadata": {
        "colab": {
          "base_uri": "https://localhost:8080/"
        },
        "id": "beuKf0QBraLr",
        "outputId": "8fe4ff61-ca43-4a65-8bf5-c60c42d622f8"
      },
      "outputs": [
        {
          "output_type": "stream",
          "name": "stdout",
          "text": [
            "Overwriting edmondsKarp.c\n"
          ]
        }
      ],
      "source": [
        "%%writefile edmondsKarp.c\n",
        "#include <stdio.h>\n",
        "#include <stdlib.h>\n",
        "#include <limits.h>\n",
        "\n",
        "#define MAX_NODES 1000\n",
        "\n",
        "int min(int a, int b) {\n",
        "    if (a < b) {\n",
        "        return a;\n",
        "    } else {\n",
        "        return b;\n",
        "    }\n",
        "}\n",
        "\n",
        "int bfs(int graph[MAX_NODES][MAX_NODES], int source, int sink, int parent[MAX_NODES], int nodes) {\n",
        "    int visited[MAX_NODES] = {0}; //visited nodes\n",
        "    int queue[MAX_NODES]; //bfs queue\n",
        "    int front = 0;\n",
        "    int rear = 0;\n",
        "    queue[rear++] = source;\n",
        "    visited[source] = 1;\n",
        "    parent[source] = -1; //not sure\n",
        "\n",
        "    // loop until the queue is empty or we have found a path from source to sink\n",
        "    while (front != rear) {\n",
        "        int u = queue[front++];\n",
        "        // check all neighbors of u\n",
        "        for (int v = 0; v < nodes; v++) {\n",
        "            //printf(\"why not coming here!!!!\");\n",
        "            if (visited[v] == 0 && graph[u][v] > 0) {\n",
        "                parent[v] = u;\n",
        "                visited[v] = 1;\n",
        "                queue[rear++] = v;\n",
        "            }\n",
        "        }\n",
        "    }\n",
        "\n",
        "    // if we found a path from source to sink, return 1\n",
        "    return visited[sink];\n",
        "}\n",
        "\n",
        "int edmonds_karp(int graph[MAX_NODES][MAX_NODES], int source, int sink, int nodes) {\n",
        "    int parent[MAX_NODES]; // parent[i] stores the parent node of node i in the augmented path\n",
        "    int max_flow = 0;\n",
        "\n",
        "    // loop until no path from source to sink\n",
        "    while (bfs(graph, source, sink, parent, nodes)) {\n",
        "        // find maximum flow that can be sent along the path\n",
        "        int path_flow = INT_MAX;\n",
        "        for (int v = sink; v != source; v = parent[v]) {\n",
        "            int u = parent[v];\n",
        "            path_flow = min(path_flow, graph[u][v]);\n",
        "        }\n",
        "\n",
        "        // update the residual capacities of the edges and the maximum flow\n",
        "        for (int v = sink; v != source; v = parent[v]) {\n",
        "            //printf(\"%d\", v);\n",
        "            int u = parent[v];\n",
        "            graph[u][v] -= path_flow;\n",
        "            graph[v][u] += path_flow;\n",
        "        }\n",
        "        max_flow = max_flow + path_flow;\n",
        "    }\n",
        "\n",
        "    return max_flow;\n",
        "}\n",
        "\n",
        "int main() {\n",
        "    int graph[MAX_NODES][MAX_NODES] = {0};\n",
        "    int nodes, edges, u, v, w, source, sink;\n",
        "\n",
        "    printf(\"Enter the number of nodes, edges, source, and sink: \");\n",
        "    scanf(\"%d %d %d %d\", &nodes, &edges, &source, &sink);\n",
        "\n",
        "    printf(\"Enter the edges with their weights:\\n\");\n",
        "    for (int i = 0; i < edges; i++) {\n",
        "        scanf(\"%d %d %d\", &u, &v, &w);\n",
        "        graph[u][v] = w;\n",
        "    }\n",
        "\n",
        "    printf(\"hello i dont know why not getting here :C\\n\");\n",
        "    \n",
        "    int max_flow = edmonds_karp(graph, source, sink, nodes);\n",
        "    printf(\"Me done!!\\n\");\n",
        "    printf(\"Maximum flow: %d\\n\", max_flow);\n",
        "    return 0;\n",
        "}"
      ]
    },
    {
      "cell_type": "code",
      "source": [
        "!gcc edmondsKarp.c -lm\n",
        "!./a.out"
      ],
      "metadata": {
        "colab": {
          "base_uri": "https://localhost:8080/"
        },
        "id": "ff8ijh45snhG",
        "outputId": "1948c851-73b1-4fc4-d5c5-f9813e20fec6"
      },
      "execution_count": null,
      "outputs": [
        {
          "output_type": "stream",
          "name": "stdout",
          "text": [
            "Enter the number of nodes, edges, source, and sink: 6 9 0 5\n",
            "Enter the edges with their weights:\n",
            "0 1 16\n",
            "0 2 13\n",
            "2 1 4\n",
            "1 3 12\n",
            "2 4 14\n",
            "3 2 9\n",
            "4 3 7\n",
            "4 5 4\n",
            "3 5 20\n",
            "hello i dont know why not getting here :C\n",
            "Me done!!\n",
            "Maximum flow: 23\n"
          ]
        }
      ]
    },
    {
      "cell_type": "markdown",
      "source": [
        "**<h2> GPU Implementation </h2>**"
      ],
      "metadata": {
        "id": "7MnvUXtMt6QC"
      }
    },
    {
      "cell_type": "code",
      "source": [
        "!pip install git+https://github.com/andreinechaev/nvcc4jupyter.git\n",
        "%load_ext nvcc_plugin"
      ],
      "metadata": {
        "id": "nwfzMrzmt50T"
      },
      "execution_count": null,
      "outputs": []
    },
    {
      "cell_type": "code",
      "source": [
        "%%writefile GPUedmondsKarp.cu\n"
      ],
      "metadata": {
        "id": "TNa_Po6euMmy"
      },
      "execution_count": null,
      "outputs": []
    },
    {
      "cell_type": "code",
      "source": [
        "!nvcc GPUedmondsKarp.cu\n",
        "!./a.out"
      ],
      "metadata": {
        "id": "o18Y_xI9uWzi"
      },
      "execution_count": null,
      "outputs": []
    },
    {
      "cell_type": "markdown",
      "source": [
        "**<h2> Using Edmond's Karp To Solve Image Segmentation Problem</h2>**\n",
        "\n",
        "![Original image](https://raw.githubusercontent.com/oqba06878/GPU-Project/main/Problem.jpg)\n",
        "\n",
        "\n"
      ],
      "metadata": {
        "id": "C4mdSni98dea"
      }
    },
    {
      "cell_type": "markdown",
      "source": [
        "# BFS Implementation Using Shared memory\n",
        "\n",
        "This part of code is in progress..."
      ],
      "metadata": {
        "id": "eZ7YlGvk-Pwl"
      }
    },
    {
      "cell_type": "code",
      "source": [
        "%%cu\n",
        "#include \"cuda_runtime.h\"\n",
        "#include \"device_launch_parameters.h\"\n",
        "\n",
        "#include <stdio.h>\n",
        "#include <cuda.h>\n",
        "//#define BLOCK_QUEUE_SIZE\n",
        "\n",
        "#define BLOCK_SIZE 256\n",
        "#define frontier_size 100\n",
        "\n",
        "cudaError_t addWithCuda(int *c, const int *a, const int *b, unsigned int size);\n",
        "\n",
        "\n",
        "__global__ void bfs(unsigned int* p_frontier, unsigned int* p_frontier_tail, unsigned int* c_frontier, unsigned int* c_frontier_tail, unsigned int* edges, unsigned int* dest, unsigned int* label, unsigned int* visited)\n",
        "{\n",
        "    __shared__ unsigned int c_frontier_s[256];\n",
        "    __shared__ unsigned int c_frontier_tail_s, our_c_frontier_tail;\n",
        "\n",
        "    if (threadIdx.x == 0) c_frontier_tail_s = 0;\n",
        "    __syncthreads();\n",
        "\n",
        "    const unsigned int tid = blockIdx.x * blockDim.x + threadIdx.x;\n",
        "    if (tid < *p_frontier_tail) {\n",
        "        const unsigned int my_vert = p_frontier[tid];\n",
        "        for (unsigned int i = edges[my_vert]; i < edges[my_vert + 1]; ++i) {\n",
        "            const unsigned int was_visited = atomicExch(&(visited[dest[i]]),  1);\n",
        "            if (!was_visited) {\n",
        "                label[dest[i]] = label[my_vert] + 1;\n",
        "                const unsigned int my_tail = atomicAdd(&c_frontier_tail_s, 1);\n",
        "                if (my_tail < 256) {\n",
        "                    c_frontier_s[my_tail] = dest[i];\n",
        "                }\n",
        "                else {\n",
        "                    c_frontier_tail_s = 256;\n",
        "                    const unsigned int my_global_tail = atomicAdd(c_frontier_tail, 1);\n",
        "                    c_frontier[my_global_tail] = dest[i];\n",
        "                }\n",
        "            }\n",
        "        }\n",
        "    }\n",
        "    __syncthreads();\n",
        "\n",
        "    if (threadIdx.x == 0) {\n",
        "        our_c_frontier_tail = atomicAdd(c_frontier_tail, c_frontier_tail_s);\n",
        "\n",
        "    }\n",
        "    __syncthreads();\n",
        "\n",
        "    for (unsigned int i = threadIdx.x; i < c_frontier_tail_s; i += blockDim.x) {\n",
        "        c_frontier[our_c_frontier_tail + i] = c_frontier_s[i];\n",
        "    }\n",
        "}\n",
        "\n",
        "\n",
        "__global__ void kernel_init(unsigned int source, unsigned int *d_visited, unsigned int *c_frontier_tail_d, unsigned int * p_frontier_d, unsigned int* p_frontier_tail_d, unsigned int* label)\n",
        "{\n",
        "    unsigned int num_verts = 1000;\n",
        "    unsigned int num_edges = 5000;\n",
        "    d_visited[source] = 1;\n",
        "    for (int i = 0; i < num_verts; i++) {\n",
        "        if (i!=source)  d_visited[i] = 0 ;\n",
        "    }\n",
        "    *c_frontier_tail_d = 0;\n",
        "    p_frontier_d[0] = source;\n",
        "    *p_frontier_tail_d = 0;\n",
        "    label[source] = 0;\n",
        "\n",
        "}\n",
        "\n",
        "\n",
        "void bfs(unsigned int source, unsigned int* edges, unsigned int* dest, unsigned int* label)\n",
        "{\n",
        "    unsigned int num_verts = 1000;\n",
        "    unsigned int num_edges = 5000;\n",
        "    unsigned int* d_edges, * d_dest, * d_label, * d_visited;\n",
        "    cudaMalloc(&d_edges, (num_verts + 1) * sizeof(unsigned int));\n",
        "    cudaMalloc(&d_dest, num_edges * sizeof(unsigned int));\n",
        "    cudaMalloc(&d_label, num_verts * sizeof(unsigned int));\n",
        "    cudaMalloc(&d_visited, num_verts * sizeof(unsigned int));\n",
        "    cudaMemcpy(d_edges, edges, (num_verts + 1) * sizeof(unsigned int), cudaMemcpyHostToDevice);\n",
        "    cudaMemcpy(d_dest, dest, num_edges * sizeof(unsigned int), cudaMemcpyHostToDevice);\n",
        "    cudaMemcpy(d_label, label, num_verts * sizeof(unsigned int), cudaMemcpyHostToDevice);\n",
        "\n",
        "\n",
        "    unsigned int* d_frontier, * p_frontier_tail_d, * d_c_frontier_tail;\n",
        "    cudaMalloc(&d_frontier, num_verts * sizeof(unsigned int));\n",
        "    cudaMalloc(&d_c_frontier_tail, sizeof(unsigned int));\n",
        "    cudaMalloc(&p_frontier_tail_d, sizeof(unsigned int));\n",
        "\n",
        "    unsigned int *c_frontier_d = &d_frontier[0];\n",
        "    unsigned int* p_frontier_d = &d_frontier[frontier_size];\n",
        "\n",
        "    kernel_init << <1, 1 >> > (source, d_visited, d_c_frontier_tail, p_frontier_d, p_frontier_tail_d, label);\n",
        "\n",
        "}\n",
        "\n",
        "\n",
        "\n",
        "int main() {\n",
        "  \n",
        "    unsigned int num_verts = 1000;\n",
        "    unsigned int num_edges = 5000;\n",
        "    unsigned int* edges = (unsigned int*)malloc((num_verts + 1) * sizeof(unsigned int));\n",
        "    unsigned int* dest = (unsigned int*)malloc(num_edges * sizeof(unsigned int));\n",
        "  \n",
        "    for (unsigned int i = 0; i <= num_verts; ++i) {\n",
        "        edges[i] = i * num_edges / num_verts;\n",
        "    }\n",
        "    for (unsigned int i = 0; i < num_edges; ++i) {\n",
        "        dest[i] = rand() % num_verts;\n",
        "    }\n",
        "\n",
        "    unsigned int* label = (unsigned int*)malloc(num_verts * sizeof(unsigned int));\n",
        "    unsigned int* visited = (unsigned int*)calloc(num_verts, sizeof(unsigned int));\n",
        "    unsigned int* frontier = (unsigned int*)malloc(num_verts * sizeof(unsigned int));\n",
        "    unsigned int* frontier_tail = (unsigned int*)malloc(sizeof(unsigned int));\n",
        "    unsigned int* c_frontier = (unsigned int*)malloc(num_verts * sizeof(unsigned int));\n",
        "    unsigned int* c_frontier_tail = (unsigned int*)malloc(sizeof(unsigned int));\n",
        "    frontier[0] = 0;\n",
        "    frontier_tail[0] = 1;\n",
        "    *c_frontier_tail = 0;\n",
        "\n",
        "    unsigned int* d_edges, * d_dest, * d_label, * d_visited, * d_frontier, * d_frontier_tail, * d_c_frontier, * d_c_frontier_tail;\n",
        "    cudaMalloc(&d_edges, (num_verts + 1) * sizeof(unsigned int));\n",
        "    cudaMalloc(&d_dest, num_edges * sizeof(unsigned int));\n",
        "    cudaMalloc(&d_label, num_verts * sizeof(unsigned int));\n",
        "    cudaMalloc(&d_visited, num_verts * sizeof(unsigned int));\n",
        "    cudaMalloc(&d_frontier, num_verts * sizeof(unsigned int));\n",
        "    cudaMalloc(&d_frontier_tail, sizeof(unsigned int));\n",
        "    cudaMalloc(&d_c_frontier, num_verts * sizeof(unsigned int));\n",
        "    cudaMalloc(&d_c_frontier_tail, sizeof(unsigned int));\n",
        "    cudaMemcpy(d_edges, edges, (num_verts + 1) * sizeof(unsigned int), cudaMemcpyHostToDevice);\n",
        "    cudaMemcpy(d_dest, dest, num_edges * sizeof(unsigned int), cudaMemcpyHostToDevice);\n",
        "    cudaMemcpy(d_label, label, num_verts * sizeof(unsigned int), cudaMemcpyHostToDevice);\n",
        "    cudaMemcpy(d_visited, visited, num_verts * sizeof(unsigned int), cudaMemcpyHostToDevice);\n",
        "    cudaMemcpy(d_frontier, frontier, num_verts * sizeof(unsigned int), cudaMemcpyHostToDevice);\n",
        "    cudaMemcpy(d_frontier_tail, frontier_tail, sizeof(unsigned int), cudaMemcpyHostToDevice);\n",
        "    cudaMemcpy(d_c_frontier_tail, c_frontier_tail, sizeof(unsigned int), cudaMemcpyHostToDevice);\n",
        "\n",
        "    unsigned int num_blocks = (frontier_tail[0] + BLOCK_SIZE - 1) / BLOCK_SIZE;\n",
        "    while (frontier_tail[0] > 0) {\n",
        "        bfs << <num_blocks, BLOCK_SIZE >> > (d_frontier, d_frontier_tail, d_c_frontier, d_c_frontier_tail, d_edges, d_dest, d_label, d_visited);\n",
        "        cudaMemcpy(frontier_tail, d_c_frontier_tail, sizeof(unsigned int), cudaMemcpyDeviceToHost);\n",
        "        cudaMemcpy(frontier, d_c_frontier, frontier_tail[0] * sizeof(unsigned int), cudaMemcpyDeviceToHost);\n",
        "        cudaMemcpy(d_frontier, frontier, frontier_tail[0] * sizeof(unsigned int), cudaMemcpyHostToDevice);\n",
        "        cudaMemset(d_c_frontier_tail, 0, sizeof(unsigned int));\n",
        "    }\n",
        "    cudaMemcpy(label, d_label, num_verts * sizeof(unsigned int), cudaMemcpyDeviceToHost);\n",
        "\n",
        "    printf(\"BFS Structure:\\n\");\n",
        "    for (unsigned int i = 0; i < num_verts; ++i) {\n",
        "        printf(\"%d\\n\", frontier_tail[i]);\n",
        "    }\n",
        "\n",
        "    cudaFree(d_frontier);\n",
        "    cudaFree(d_frontier_tail);\n",
        "    cudaFree(d_c_frontier);\n",
        "    cudaFree(d_c_frontier_tail);\n",
        "    cudaFree(d_edges);\n",
        "    cudaFree(d_dest);\n",
        "    cudaFree(d_label);\n",
        "    cudaFree(d_visited);\n",
        "\n",
        "  \n",
        "    delete[] frontier;\n",
        "    delete[] frontier_tail;\n",
        "\n",
        "\n",
        "}"
      ],
      "metadata": {
        "id": "stGdvJPA-MeH"
      },
      "execution_count": null,
      "outputs": []
    }
  ]
}