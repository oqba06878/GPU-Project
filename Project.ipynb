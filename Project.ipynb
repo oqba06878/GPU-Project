{
  "nbformat": 4,
  "nbformat_minor": 0,
  "metadata": {
    "colab": {
      "provenance": []
    },
    "kernelspec": {
      "name": "python3",
      "display_name": "Python 3"
    },
    "language_info": {
      "name": "python"
    }
  },
  "cells": [
    {
      "cell_type": "markdown",
      "source": [
        "**<h1> GPU Project:  Effecient Parallelization of Edmond's Karp Algorithm </h1>**\n",
        "\n",
        "<h3><b>Authors:</b> Maha Usmani, Shehryar Amin, Oqba Jawed</h3>"
      ],
      "metadata": {
        "id": "mCWvHEeOrbcV"
      }
    },
    {
      "cell_type": "markdown",
      "source": [
        "**<h2> CPU Implementation </h2>**"
      ],
      "metadata": {
        "id": "T1rEW0VUsII0"
      }
    },
    {
      "cell_type": "code",
      "execution_count": 4,
      "metadata": {
        "colab": {
          "base_uri": "https://localhost:8080/"
        },
        "id": "beuKf0QBraLr",
        "outputId": "8fe4ff61-ca43-4a65-8bf5-c60c42d622f8"
      },
      "outputs": [
        {
          "output_type": "stream",
          "name": "stdout",
          "text": [
            "Overwriting edmondsKarp.c\n"
          ]
        }
      ],
      "source": [
        "%%writefile edmondsKarp.c\n",
        "#include <stdio.h>\n",
        "#include <stdlib.h>\n",
        "#include <limits.h>\n",
        "\n",
        "#define MAX_NODES 1000\n",
        "\n",
        "int min(int a, int b) {\n",
        "    if (a < b) {\n",
        "        return a;\n",
        "    } else {\n",
        "        return b;\n",
        "    }\n",
        "}\n",
        "\n",
        "int bfs(int graph[MAX_NODES][MAX_NODES], int source, int sink, int parent[MAX_NODES], int nodes) {\n",
        "    int visited[MAX_NODES] = {0}; //visited nodes\n",
        "    int queue[MAX_NODES]; //bfs queue\n",
        "    int front = 0;\n",
        "    int rear = 0;\n",
        "    queue[rear++] = source;\n",
        "    visited[source] = 1;\n",
        "    parent[source] = -1; //not sure\n",
        "\n",
        "    // loop until the queue is empty or we have found a path from source to sink\n",
        "    while (front != rear) {\n",
        "        int u = queue[front++];\n",
        "        // check all neighbors of u\n",
        "        for (int v = 0; v < nodes; v++) {\n",
        "            //printf(\"why not coming here!!!!\");\n",
        "            if (visited[v] == 0 && graph[u][v] > 0) {\n",
        "                parent[v] = u;\n",
        "                visited[v] = 1;\n",
        "                queue[rear++] = v;\n",
        "            }\n",
        "        }\n",
        "    }\n",
        "\n",
        "    // if we found a path from source to sink, return 1\n",
        "    return visited[sink];\n",
        "}\n",
        "\n",
        "int edmonds_karp(int graph[MAX_NODES][MAX_NODES], int source, int sink, int nodes) {\n",
        "    int parent[MAX_NODES]; // parent[i] stores the parent node of node i in the augmented path\n",
        "    int max_flow = 0;\n",
        "\n",
        "    // loop until no path from source to sink\n",
        "    while (bfs(graph, source, sink, parent, nodes)) {\n",
        "        // find maximum flow that can be sent along the path\n",
        "        int path_flow = INT_MAX;\n",
        "        for (int v = sink; v != source; v = parent[v]) {\n",
        "            int u = parent[v];\n",
        "            path_flow = min(path_flow, graph[u][v]);\n",
        "        }\n",
        "\n",
        "        // update the residual capacities of the edges and the maximum flow\n",
        "        for (int v = sink; v != source; v = parent[v]) {\n",
        "            //printf(\"%d\", v);\n",
        "            int u = parent[v];\n",
        "            graph[u][v] -= path_flow;\n",
        "            graph[v][u] += path_flow;\n",
        "        }\n",
        "        max_flow = max_flow + path_flow;\n",
        "    }\n",
        "\n",
        "    return max_flow;\n",
        "}\n",
        "\n",
        "int main() {\n",
        "    int graph[MAX_NODES][MAX_NODES] = {0};\n",
        "    int nodes, edges, u, v, w, source, sink;\n",
        "\n",
        "    printf(\"Enter the number of nodes, edges, source, and sink: \");\n",
        "    scanf(\"%d %d %d %d\", &nodes, &edges, &source, &sink);\n",
        "\n",
        "    printf(\"Enter the edges with their weights:\\n\");\n",
        "    for (int i = 0; i < edges; i++) {\n",
        "        scanf(\"%d %d %d\", &u, &v, &w);\n",
        "        graph[u][v] = w;\n",
        "    }\n",
        "\n",
        "    printf(\"hello i dont know why not getting here :C\\n\");\n",
        "    \n",
        "    int max_flow = edmonds_karp(graph, source, sink, nodes);\n",
        "    printf(\"Me done!!\\n\");\n",
        "    printf(\"Maximum flow: %d\\n\", max_flow);\n",
        "    return 0;\n",
        "}"
      ]
    },
    {
      "cell_type": "code",
      "source": [
        "!gcc edmondsKarp.c -lm\n",
        "!./a.out"
      ],
      "metadata": {
        "colab": {
          "base_uri": "https://localhost:8080/"
        },
        "id": "ff8ijh45snhG",
        "outputId": "1948c851-73b1-4fc4-d5c5-f9813e20fec6"
      },
      "execution_count": 5,
      "outputs": [
        {
          "output_type": "stream",
          "name": "stdout",
          "text": [
            "Enter the number of nodes, edges, source, and sink: 6 9 0 5\n",
            "Enter the edges with their weights:\n",
            "0 1 16\n",
            "0 2 13\n",
            "2 1 4\n",
            "1 3 12\n",
            "2 4 14\n",
            "3 2 9\n",
            "4 3 7\n",
            "4 5 4\n",
            "3 5 20\n",
            "hello i dont know why not getting here :C\n",
            "Me done!!\n",
            "Maximum flow: 23\n"
          ]
        }
      ]
    },
    {
      "cell_type": "markdown",
      "source": [
        "**<h2> GPU Implementation </h2>**"
      ],
      "metadata": {
        "id": "7MnvUXtMt6QC"
      }
    },
    {
      "cell_type": "code",
      "source": [
        "!pip install git+https://github.com/andreinechaev/nvcc4jupyter.git\n",
        "%load_ext nvcc_plugin"
      ],
      "metadata": {
        "id": "nwfzMrzmt50T"
      },
      "execution_count": null,
      "outputs": []
    },
    {
      "cell_type": "code",
      "source": [
        "%%writefile GPUedmondsKarp.cu\n"
      ],
      "metadata": {
        "id": "TNa_Po6euMmy"
      },
      "execution_count": null,
      "outputs": []
    },
    {
      "cell_type": "code",
      "source": [
        "!nvcc GPUedmondsKarp.cu\n",
        "!./a.out"
      ],
      "metadata": {
        "id": "o18Y_xI9uWzi"
      },
      "execution_count": null,
      "outputs": []
    }
  ]
}